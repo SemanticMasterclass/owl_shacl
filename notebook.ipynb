{
 "cells": [
  {
   "cell_type": "code",
   "execution_count": null,
   "metadata": {},
   "outputs": [],
   "source": [
    "import kglab"
   ]
  },
  {
   "cell_type": "code",
   "execution_count": null,
   "metadata": {},
   "outputs": [],
   "source": [
    "namespaces = {\n",
    "    \"ex\":  \"http://example.com/\",\n",
    "    \"owl\": \"http://www.w3.org/2002/07/owl#\",\n",
    "    \"rdf\": \"http://www.w3.org/1999/02/22-rdf-syntax-ns#\",\n",
    "    \"rdfs\": \"http://www.w3.org/2000/01/rdf-schema#\",\n",
    "    \"xsd\": \"http://www.w3.org/2001/XMLSchema#\"\n",
    "    }\n",
    "\n",
    "kg = kglab.KnowledgeGraph(\n",
    "    name = \"A KG example\",\n",
    "    namespaces = namespaces\n",
    "    )"
   ]
  },
  {
   "cell_type": "code",
   "execution_count": null,
   "metadata": {},
   "outputs": [],
   "source": [
    "kg.materialize('morph_configs/main_config.ini')"
   ]
  },
  {
   "cell_type": "code",
   "execution_count": null,
   "metadata": {},
   "outputs": [],
   "source": [
    "kg.load_rdf('data/artefacts.ttl')"
   ]
  },
  {
   "cell_type": "code",
   "execution_count": null,
   "metadata": {},
   "outputs": [],
   "source": [
    "# Define a dictionary called VIS_STYLE that specifies visualization styles for different types of nodes in the graph\n",
    "VIS_STYLE = {\n",
    "    \"owl\": {\n",
    "        \"color\": \"orange\",\n",
    "        \"size\": 20,\n",
    "    },\n",
    "    \"ex\":{\n",
    "        \"color\": \"blue\",\n",
    "        \"size\": 35,\n",
    "    },\n",
    "}\n",
    "\n",
    "# Create a SubgraphTensor object from the knowledge graph, which allows for tensor-based operations on the graph\n",
    "subgraph = kglab.SubgraphTensor(kg)\n",
    "\n",
    "# Build a PyVis graph object from the SubgraphTensor, specifying that it should be rendered in a Jupyter notebook and using the VIS_STYLE dictionary for node styling\n",
    "pyvis_graph = subgraph.build_pyvis_graph(notebook=True, style=VIS_STYLE)\n",
    "\n",
    "# Apply a force-directed graph layout algorithm (Force Atlas 2) to the PyVis graph\n",
    "pyvis_graph.force_atlas_2based()\n",
    "\n",
    "# Save the PyVis graph as an HTML file\n",
    "pyvis_graph.show('output/graph.html')\n",
    "\n",
    "# Save the knowledge graph as a TTL (Turtle) file\n",
    "kg.save_rdf('output/triples.ttl')\n",
    "\n",
    "# Convert triples to string and print\n",
    "ttl = kg.save_rdf_text()\n",
    "print(ttl)"
   ]
  },
  {
   "cell_type": "code",
   "execution_count": null,
   "metadata": {},
   "outputs": [],
   "source": [
    "kg.query_as_df('''\n",
    "SELECT ?subject ?predicate ?object \n",
    "WHERE {\n",
    "    ?subject ?predicate ?object .\n",
    "}\n",
    "''')"
   ]
  }
 ],
 "metadata": {
  "kernelspec": {
   "display_name": "Python 3",
   "language": "python",
   "name": "python3"
  },
  "language_info": {
   "codemirror_mode": {
    "name": "ipython",
    "version": 3
   },
   "file_extension": ".py",
   "mimetype": "text/x-python",
   "name": "python",
   "nbconvert_exporter": "python",
   "pygments_lexer": "ipython3",
   "version": "3.9.5"
  }
 },
 "nbformat": 4,
 "nbformat_minor": 2
}
