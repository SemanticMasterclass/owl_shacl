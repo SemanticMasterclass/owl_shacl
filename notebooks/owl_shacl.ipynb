{
 "cells": [
  {
   "cell_type": "markdown",
   "metadata": {
    "slideshow": {
     "slide_type": "slide"
    }
   },
   "source": [
    "# OWL or SHACL – A Beginner’s Guide to Making the Right Choice\n",
    "#### A Talk by Tara Raafat and Davide D'Amico\n",
    "\n",
    "December, 2024"
   ]
  },
  {
   "cell_type": "markdown",
   "metadata": {
    "slideshow": {
     "slide_type": "slide"
    }
   },
   "source": [
    "# Slide 2\n",
    "\n",
    "content"
   ]
  }
 ],
 "metadata": {
  "language_info": {
   "name": "python"
  }
 },
 "nbformat": 4,
 "nbformat_minor": 2
}
