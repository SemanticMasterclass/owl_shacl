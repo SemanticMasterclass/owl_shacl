{
 "cells": [
  {
   "cell_type": "markdown",
   "metadata": {},
   "source": [
    "# OWL or SHACL – A Beginner’s Guide to Making the Right Choice\n",
    "###### A Talk by Tara Raafat and Davide D'Amico"
   ]
  }
 ],
 "metadata": {
  "language_info": {
   "name": "python"
  }
 },
 "nbformat": 4,
 "nbformat_minor": 2
}
